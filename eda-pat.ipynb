{
 "cells": [
  {
   "cell_type": "code",
   "execution_count": 15,
   "metadata": {},
   "outputs": [
    {
     "name": "stdout",
     "output_type": "stream",
     "text": [
      "numpy 1.19.2\n",
      "pandas 1.1.5\n",
      "missingno 0.4.2\n"
     ]
    }
   ],
   "source": [
    "import numpy as np\n",
    "import pandas as pd\n",
    "# import matplotlib as mpl\n",
    "import matplotlib.pyplot as plt\n",
    "%matplotlib inline\n",
    "import missingno as msno\n",
    "# from ipywidgets import interact\n",
    "# from bokeh.settings import settings\n",
    "# from bokeh.io import push_notebook, show, output_notebook\n",
    "# from bokeh.plotting import figure, output_file, show\n",
    "# output_notebook()\n",
    "print(\"numpy %s\" % np.__version__)\n",
    "print(\"pandas %s\" % pd.__version__)\n",
    "# print(\"matplotlib %s\" % mpl.__version__)\n",
    "print(\"missingno %s\" % msno.__version__)"
   ]
  },
  {
   "cell_type": "markdown",
   "metadata": {},
   "source": [
    "# Matplotlib rcParams"
   ]
  },
  {
   "cell_type": "code",
   "execution_count": 20,
   "metadata": {},
   "outputs": [],
   "source": [
    "plt.rcParams.update({'figure.autolayout': True})"
   ]
  },
  {
   "cell_type": "markdown",
   "metadata": {},
   "source": [
    "# Exploratory Data Analysis (EDA)"
   ]
  },
  {
   "cell_type": "code",
   "execution_count": 4,
   "metadata": {},
   "outputs": [],
   "source": [
    "ts = pd.read_csv(\"../../data_check_for_proposal/time_series_60min_singleindex.csv\")"
   ]
  },
  {
   "cell_type": "code",
   "execution_count": 5,
   "metadata": {},
   "outputs": [
    {
     "name": "stdout",
     "output_type": "stream",
     "text": [
      "<class 'pandas.core.frame.DataFrame'>\n",
      "RangeIndex: 50401 entries, 0 to 50400\n",
      "Columns: 300 entries, utc_timestamp to UA_load_forecast_entsoe_transparency\n",
      "dtypes: float64(298), object(2)\n",
      "memory usage: 115.4+ MB\n"
     ]
    }
   ],
   "source": [
    "ts.info()"
   ]
  },
  {
   "cell_type": "code",
   "execution_count": 11,
   "metadata": {
    "scrolled": true
   },
   "outputs": [
    {
     "data": {
      "text/plain": [
       "Index(['utc_timestamp', 'cet_cest_timestamp',\n",
       "       'AT_load_actual_entsoe_transparency',\n",
       "       'AT_load_forecast_entsoe_transparency', 'AT_price_day_ahead',\n",
       "       'AT_solar_generation_actual', 'AT_wind_onshore_generation_actual',\n",
       "       'BE_load_actual_entsoe_transparency',\n",
       "       'BE_load_forecast_entsoe_transparency', 'BE_solar_generation_actual',\n",
       "       ...\n",
       "       'SI_load_actual_entsoe_transparency',\n",
       "       'SI_load_forecast_entsoe_transparency', 'SI_solar_generation_actual',\n",
       "       'SI_wind_onshore_generation_actual',\n",
       "       'SK_load_actual_entsoe_transparency',\n",
       "       'SK_load_forecast_entsoe_transparency', 'SK_solar_generation_actual',\n",
       "       'SK_wind_onshore_generation_actual',\n",
       "       'UA_load_actual_entsoe_transparency',\n",
       "       'UA_load_forecast_entsoe_transparency'],\n",
       "      dtype='object', length=300)"
      ]
     },
     "execution_count": 11,
     "metadata": {},
     "output_type": "execute_result"
    }
   ],
   "source": [
    "ts.columns"
   ]
  },
  {
   "cell_type": "code",
   "execution_count": null,
   "metadata": {},
   "outputs": [],
   "source": []
  },
  {
   "cell_type": "code",
   "execution_count": null,
   "metadata": {},
   "outputs": [],
   "source": []
  },
  {
   "cell_type": "code",
   "execution_count": null,
   "metadata": {},
   "outputs": [],
   "source": []
  },
  {
   "cell_type": "code",
   "execution_count": 6,
   "metadata": {},
   "outputs": [],
   "source": [
    "wt = pd.read_csv(\"../../data_check_for_proposal/weather_data.csv\")"
   ]
  },
  {
   "cell_type": "code",
   "execution_count": null,
   "metadata": {},
   "outputs": [],
   "source": []
  }
 ],
 "metadata": {
  "kernelspec": {
   "display_name": "Python 3",
   "language": "python",
   "name": "python3"
  },
  "language_info": {
   "codemirror_mode": {
    "name": "ipython",
    "version": 3
   },
   "file_extension": ".py",
   "mimetype": "text/x-python",
   "name": "python",
   "nbconvert_exporter": "python",
   "pygments_lexer": "ipython3",
   "version": "3.7.9"
  },
  "toc": {
   "base_numbering": 1,
   "nav_menu": {},
   "number_sections": true,
   "sideBar": true,
   "skip_h1_title": false,
   "title_cell": "Table of Contents",
   "title_sidebar": "Contents",
   "toc_cell": false,
   "toc_position": {},
   "toc_section_display": true,
   "toc_window_display": false
  }
 },
 "nbformat": 4,
 "nbformat_minor": 4
}
